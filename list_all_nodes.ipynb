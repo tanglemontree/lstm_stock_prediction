{
 "cells": [
  {
   "cell_type": "code",
   "execution_count": null,
   "metadata": {},
   "outputs": [],
   "source": [
    "from __future__ import print_function\n",
    "from tensorflow.core.framework import graph_pb2\n",
    "import tensorflow as tf\n",
    "import numpy as np\n",
    "\n",
    "\n",
    "def display_nodes(nodes):\n",
    "    for i, node in enumerate(nodes):\n",
    "        print('%d %s %s' % (i, node.name, node.op))\n",
    "        [print(u'└─── %d ─ %s' % (i, n)) for i, n in enumerate(node.input)]\n",
    "        "
   ]
  },
  {
   "cell_type": "code",
   "execution_count": null,
   "metadata": {},
   "outputs": [],
   "source": [
    "# read frozen graph and display nodes\n",
    "graph = tf.GraphDef()\n",
    "with tf.gfile.Open('./out.pb', 'rb') as f:\n",
    "    data = f.read()\n",
    "    graph.ParseFromString(data)\n",
    "    \n",
    "display_nodes(graph.node)"
   ]
  },
  {
   "cell_type": "code",
   "execution_count": null,
   "metadata": {},
   "outputs": [],
   "source": []
  }
 ],
 "metadata": {
  "kernelspec": {
   "display_name": "Python 3",
   "language": "python",
   "name": "python3"
  },
  "language_info": {
   "codemirror_mode": {
    "name": "ipython",
    "version": 3
   },
   "file_extension": ".py",
   "mimetype": "text/x-python",
   "name": "python",
   "nbconvert_exporter": "python",
   "pygments_lexer": "ipython3",
   "version": "3.5.2"
  }
 },
 "nbformat": 4,
 "nbformat_minor": 2
}
